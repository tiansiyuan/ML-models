{
 "cells": [
  {
   "cell_type": "code",
   "execution_count": 1,
   "id": "9faecca3-12d3-48c4-ae44-402ccae5a464",
   "metadata": {},
   "outputs": [
    {
     "data": {
      "text/plain": [
       "'/home/jovyan/20221107_Object_Detection_using_PyTorch_Faster_RCNN_ResNet50_FPN_V2/outputs'"
      ]
     },
     "execution_count": 1,
     "metadata": {},
     "output_type": "execute_result"
    }
   ],
   "source": [
    "pwd"
   ]
  },
  {
   "cell_type": "code",
   "execution_count": null,
   "id": "52e1186b-e5a2-427d-88ac-c4ab9f031ae6",
   "metadata": {},
   "outputs": [],
   "source": [
    "from ipywidgets import Video\n",
    "\n",
    "Video.from_file(\"./video_1_t05_v2.mp4\", width=320, height=320)"
   ]
  },
  {
   "cell_type": "code",
   "execution_count": null,
   "id": "219d9678-9323-490a-bbab-7753dc4780c6",
   "metadata": {},
   "outputs": [],
   "source": []
  }
 ],
 "metadata": {
  "kernelspec": {
   "display_name": "Python 3 (ipykernel)",
   "language": "python",
   "name": "python3"
  },
  "language_info": {
   "codemirror_mode": {
    "name": "ipython",
    "version": 3
   },
   "file_extension": ".py",
   "mimetype": "text/x-python",
   "name": "python",
   "nbconvert_exporter": "python",
   "pygments_lexer": "ipython3",
   "version": "3.9.16"
  }
 },
 "nbformat": 4,
 "nbformat_minor": 5
}
