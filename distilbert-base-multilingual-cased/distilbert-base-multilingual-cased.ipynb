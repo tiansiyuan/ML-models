{
 "cells": [
  {
   "cell_type": "markdown",
   "id": "579951f6-a30e-404f-9ed9-0d4805a2157c",
   "metadata": {},
   "source": [
    "# Distilbert base multilingual cased model\n",
    "\n",
    "This notebook is adapted from https://huggingface.co/distilbert-base-multilingual-cased."
   ]
  },
  {
   "cell_type": "code",
   "execution_count": 1,
   "id": "bfac4522-7fb0-40b8-a6ed-cb76ca7a5d3a",
   "metadata": {},
   "outputs": [
    {
     "data": {
      "application/vnd.jupyter.widget-view+json": {
       "model_id": "d81237a5acb346d387720e91bac73f04",
       "version_major": 2,
       "version_minor": 0
      },
      "text/plain": [
       "Downloading (…)lve/main/config.json:   0%|          | 0.00/466 [00:00<?, ?B/s]"
      ]
     },
     "metadata": {},
     "output_type": "display_data"
    },
    {
     "data": {
      "application/vnd.jupyter.widget-view+json": {
       "model_id": "65a590d8e40f48d08def392fe77d4f63",
       "version_major": 2,
       "version_minor": 0
      },
      "text/plain": [
       "Downloading model.safetensors:   0%|          | 0.00/542M [00:00<?, ?B/s]"
      ]
     },
     "metadata": {},
     "output_type": "display_data"
    },
    {
     "data": {
      "application/vnd.jupyter.widget-view+json": {
       "model_id": "3ade0bbbc4634a269a6c81d0b8445f6d",
       "version_major": 2,
       "version_minor": 0
      },
      "text/plain": [
       "Downloading (…)okenizer_config.json:   0%|          | 0.00/29.0 [00:00<?, ?B/s]"
      ]
     },
     "metadata": {},
     "output_type": "display_data"
    },
    {
     "data": {
      "application/vnd.jupyter.widget-view+json": {
       "model_id": "04e06433f9544b1497a89d57dca755bd",
       "version_major": 2,
       "version_minor": 0
      },
      "text/plain": [
       "Downloading (…)solve/main/vocab.txt:   0%|          | 0.00/996k [00:00<?, ?B/s]"
      ]
     },
     "metadata": {},
     "output_type": "display_data"
    },
    {
     "data": {
      "application/vnd.jupyter.widget-view+json": {
       "model_id": "4541b092f5064ba88fc761bbe917350f",
       "version_major": 2,
       "version_minor": 0
      },
      "text/plain": [
       "Downloading (…)/main/tokenizer.json:   0%|          | 0.00/1.96M [00:00<?, ?B/s]"
      ]
     },
     "metadata": {},
     "output_type": "display_data"
    },
    {
     "data": {
      "text/plain": [
       "[{'score': 0.04080025479197502,\n",
       "  'token': 37859,\n",
       "  'token_str': 'virtual',\n",
       "  'sequence': \"Hello I'm a virtual model.\"},\n",
       " {'score': 0.02001597173511982,\n",
       "  'token': 22185,\n",
       "  'token_str': 'big',\n",
       "  'sequence': \"Hello I'm a big model.\"},\n",
       " {'score': 0.018680501729249954,\n",
       "  'token': 31178,\n",
       "  'token_str': 'Hello',\n",
       "  'sequence': \"Hello I'm a Hello model.\"},\n",
       " {'score': 0.0173965971916914,\n",
       "  'token': 13192,\n",
       "  'token_str': 'model',\n",
       "  'sequence': \"Hello I'm a model model.\"},\n",
       " {'score': 0.014229821041226387,\n",
       "  'token': 43477,\n",
       "  'token_str': 'perfect',\n",
       "  'sequence': \"Hello I'm a perfect model.\"}]"
      ]
     },
     "execution_count": 1,
     "metadata": {},
     "output_type": "execute_result"
    }
   ],
   "source": [
    "from transformers import pipeline\n",
    "unmasker = pipeline('fill-mask', model='distilbert-base-multilingual-cased')\n",
    "unmasker(\"Hello I'm a [MASK] model.\")\n"
   ]
  },
  {
   "cell_type": "code",
   "execution_count": null,
   "id": "d241db52-343f-41f8-a884-f1c601d82e1b",
   "metadata": {},
   "outputs": [],
   "source": []
  }
 ],
 "metadata": {
  "kernelspec": {
   "display_name": "Python 3 (ipykernel)",
   "language": "python",
   "name": "python3"
  },
  "language_info": {
   "codemirror_mode": {
    "name": "ipython",
    "version": 3
   },
   "file_extension": ".py",
   "mimetype": "text/x-python",
   "name": "python",
   "nbconvert_exporter": "python",
   "pygments_lexer": "ipython3",
   "version": "3.9.16"
  }
 },
 "nbformat": 4,
 "nbformat_minor": 5
}
