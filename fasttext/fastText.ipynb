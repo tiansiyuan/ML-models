{
 "cells": [
  {
   "cell_type": "markdown",
   "id": "5cb06a41-acdc-47fd-9296-adb53c88c1ae",
   "metadata": {},
   "source": [
    "# fastText\n",
    "\n",
    "[fastText](https://fasttext.cc/) is a library for efficient learning of word representations and sentence classification.\n",
    "\n",
    "This is from the [tutorial](https://fasttext.cc/docs/en/supervised-tutorial.html)."
   ]
  },
  {
   "cell_type": "code",
   "execution_count": 2,
   "id": "eae2a8a9-2525-4d64-b606-99a92777048a",
   "metadata": {},
   "outputs": [
    {
     "name": "stdout",
     "output_type": "stream",
     "text": [
      "Requirement already satisfied: fasttext in /home/venv/lib/python3.9/site-packages (0.9.2)\n",
      "Requirement already satisfied: pybind11>=2.2 in /home/venv/lib/python3.9/site-packages (from fasttext) (2.10.4)\n",
      "Requirement already satisfied: setuptools>=0.7.0 in /home/venv/lib/python3.9/site-packages (from fasttext) (67.7.2)\n",
      "Requirement already satisfied: numpy in /home/venv/lib/python3.9/site-packages (from fasttext) (1.23.5)\n",
      "Note: you may need to restart the kernel to use updated packages.\n"
     ]
    }
   ],
   "source": [
    "pip install fasttext"
   ]
  },
  {
   "cell_type": "markdown",
   "id": "0d96e5a3-7422-4f40-b1bb-b08551fa0958",
   "metadata": {},
   "source": [
    "### Getting and preparing the data"
   ]
  },
  {
   "cell_type": "code",
   "execution_count": 3,
   "id": "a534b109-5d75-486a-b2fe-00274c302fdd",
   "metadata": {},
   "outputs": [
    {
     "name": "stdout",
     "output_type": "stream",
     "text": [
      "--2023-07-01 06:30:58--  https://dl.fbaipublicfiles.com/fasttext/data/cooking.stackexchange.tar.gz\n",
      "Resolving dl.fbaipublicfiles.com (dl.fbaipublicfiles.com)... 99.84.50.112, 99.84.50.9, 99.84.50.102, ...\n",
      "Connecting to dl.fbaipublicfiles.com (dl.fbaipublicfiles.com)|99.84.50.112|:443... connected.\n",
      "HTTP request sent, awaiting response... 200 OK\n",
      "Length: 457609 (447K) [application/x-tar]\n",
      "Saving to: ‘cooking.stackexchange.tar.gz’\n",
      "\n",
      "cooking.stackexchan 100%[===================>] 446.88K  1.05MB/s    in 0.4s    \n",
      "\n",
      "2023-07-01 06:31:02 (1.05 MB/s) - ‘cooking.stackexchange.tar.gz’ saved [457609/457609]\n",
      "\n",
      "cooking.stackexchange.id\n",
      "cooking.stackexchange.txt\n",
      "readme.txt\n"
     ]
    }
   ],
   "source": [
    "!wget https://dl.fbaipublicfiles.com/fasttext/data/cooking.stackexchange.tar.gz && tar xvzf cooking.stackexchange.tar.gz"
   ]
  },
  {
   "cell_type": "code",
   "execution_count": 4,
   "id": "f1ed2f20-5cb7-4e16-8eed-6a1d558ad6ab",
   "metadata": {},
   "outputs": [
    {
     "name": "stdout",
     "output_type": "stream",
     "text": [
      "__label__sauce __label__cheese How much does potato starch affect a cheese sauce recipe?\n",
      "__label__food-safety __label__acidity Dangerous pathogens capable of growing in acidic environments\n",
      "__label__cast-iron __label__stove How do I cover up the white spots on my cast iron stove?\n",
      "__label__restaurant Michelin Three Star Restaurant; but if the chef is not there\n",
      "__label__knife-skills __label__dicing Without knife skills, how can I quickly and accurately dice vegetables?\n",
      "__label__storage-method __label__equipment __label__bread What's the purpose of a bread box?\n",
      "__label__baking __label__food-safety __label__substitutions __label__peanuts how to seperate peanut oil from roasted peanuts at home?\n",
      "__label__chocolate American equivalent for British chocolate terms\n",
      "__label__baking __label__oven __label__convection Fan bake vs bake\n",
      "__label__sauce __label__storage-lifetime __label__acidity __label__mayonnaise Regulation and balancing of readymade packed mayonnaise and other sauces\n"
     ]
    }
   ],
   "source": [
    "!head cooking.stackexchange.txt"
   ]
  },
  {
   "cell_type": "code",
   "execution_count": 5,
   "id": "2a448f93-01be-4d77-9a7d-3e5404e39bb3",
   "metadata": {},
   "outputs": [
    {
     "name": "stdout",
     "output_type": "stream",
     "text": [
      "  15404  169582 1401900 cooking.stackexchange.txt\n"
     ]
    }
   ],
   "source": [
    "!wc cooking.stackexchange.txt"
   ]
  },
  {
   "cell_type": "code",
   "execution_count": 6,
   "id": "397c1e27-4855-4b71-962e-768eb9d82752",
   "metadata": {},
   "outputs": [],
   "source": [
    "!head -n 12404 cooking.stackexchange.txt > cooking.train\n",
    "!tail -n 3000 cooking.stackexchange.txt > cooking.valid"
   ]
  },
  {
   "cell_type": "code",
   "execution_count": null,
   "id": "6641ef2c-29d0-4b36-9d24-8dba22a035b4",
   "metadata": {},
   "outputs": [],
   "source": [
    "### First classifier"
   ]
  },
  {
   "cell_type": "code",
   "execution_count": 7,
   "id": "94378f79-b556-49ca-b79f-d46cb0922536",
   "metadata": {},
   "outputs": [
    {
     "name": "stderr",
     "output_type": "stream",
     "text": [
      "Read 0M words\n",
      "Number of words:  14543\n",
      "Number of labels: 735\n",
      "Progress: 100.0% words/sec/thread:    2807 lr:  0.000000 avg.loss: 10.301685 ETA:   0h 0m 0s 96.4% words/sec/thread:    2800 lr:  0.003624 avg.loss: 10.334044 ETA:   0h 0m 0s\n"
     ]
    }
   ],
   "source": [
    "import fasttext\n",
    "model = fasttext.train_supervised(input=\"cooking.train\")"
   ]
  },
  {
   "cell_type": "code",
   "execution_count": 8,
   "id": "700361b9-def9-488e-8a53-a085bb3cc5b2",
   "metadata": {},
   "outputs": [],
   "source": [
    "model.save_model(\"model_cooking.bin\")"
   ]
  },
  {
   "cell_type": "code",
   "execution_count": 9,
   "id": "7bbe0d02-ec62-4289-b58a-4452428c9588",
   "metadata": {},
   "outputs": [
    {
     "data": {
      "text/plain": [
       "(('__label__baking',), array([0.07401636]))"
      ]
     },
     "execution_count": 9,
     "metadata": {},
     "output_type": "execute_result"
    }
   ],
   "source": [
    "model.predict(\"Which baking dish is best to bake a banana bread ?\")"
   ]
  },
  {
   "cell_type": "code",
   "execution_count": 10,
   "id": "d8450aaf-42ea-4e58-b231-00d70434f872",
   "metadata": {},
   "outputs": [
    {
     "data": {
      "text/plain": [
       "(('__label__baking',), array([0.06632103]))"
      ]
     },
     "execution_count": 10,
     "metadata": {},
     "output_type": "execute_result"
    }
   ],
   "source": [
    "model.predict(\"Why not put knives in the dishwasher?\")"
   ]
  },
  {
   "cell_type": "code",
   "execution_count": 11,
   "id": "63afaa32-b2f0-4d61-be50-707de15ff57c",
   "metadata": {},
   "outputs": [
    {
     "data": {
      "text/plain": [
       "(3000, 0.14766666666666667, 0.06386045841141703)"
      ]
     },
     "execution_count": 11,
     "metadata": {},
     "output_type": "execute_result"
    }
   ],
   "source": [
    "model.test(\"cooking.valid\")"
   ]
  },
  {
   "cell_type": "code",
   "execution_count": 12,
   "id": "18387854-8ad2-4188-87da-707bed6f7caa",
   "metadata": {},
   "outputs": [
    {
     "data": {
      "text/plain": [
       "(3000, 0.0678, 0.14660516073230503)"
      ]
     },
     "execution_count": 12,
     "metadata": {},
     "output_type": "execute_result"
    }
   ],
   "source": [
    "model.test(\"cooking.valid\", k=5)"
   ]
  },
  {
   "cell_type": "code",
   "execution_count": null,
   "id": "d67caa76-f24a-4c70-ae7f-fe7c58176641",
   "metadata": {},
   "outputs": [],
   "source": [
    "### Precision and recall"
   ]
  },
  {
   "cell_type": "code",
   "execution_count": 13,
   "id": "c7824d61-8682-4c12-9cf1-6ab4483ecfcd",
   "metadata": {},
   "outputs": [
    {
     "data": {
      "text/plain": [
       "(('__label__baking',\n",
       "  '__label__food-safety',\n",
       "  '__label__bread',\n",
       "  '__label__equipment',\n",
       "  '__label__substitutions'),\n",
       " array([0.06632103, 0.0638648 , 0.03948653, 0.03379753, 0.0314443 ]))"
      ]
     },
     "execution_count": 13,
     "metadata": {},
     "output_type": "execute_result"
    }
   ],
   "source": [
    "model.predict(\"Why not put knives in the dishwasher?\", k=5)"
   ]
  },
  {
   "cell_type": "code",
   "execution_count": null,
   "id": "2660ce3a-bd52-4a57-be30-3d97a690ee8a",
   "metadata": {},
   "outputs": [],
   "source": [
    "### Making the model better"
   ]
  },
  {
   "cell_type": "code",
   "execution_count": 14,
   "id": "23ba3caf-9ff5-4da5-93de-67fc5ba547ec",
   "metadata": {},
   "outputs": [],
   "source": [
    "!cat cooking.stackexchange.txt | sed -e \"s/\\([.\\!?,'/()]\\)/ \\1 /g\" | tr \"[:upper:]\" \"[:lower:]\" > cooking.preprocessed.txt"
   ]
  },
  {
   "cell_type": "code",
   "execution_count": 15,
   "id": "30e10679-ef9b-46f2-bbe0-e8bfb0059366",
   "metadata": {},
   "outputs": [],
   "source": [
    "!head -n 12404 cooking.preprocessed.txt > cooking2.train\n",
    "!tail -n 3000 cooking.preprocessed.txt > cooking2.valid"
   ]
  },
  {
   "cell_type": "code",
   "execution_count": 16,
   "id": "19609467-972d-4ea3-9d35-3a4fdac43e45",
   "metadata": {},
   "outputs": [
    {
     "name": "stderr",
     "output_type": "stream",
     "text": [
      "Read 0M words\n",
      "Number of words:  8952\n",
      "Number of labels: 735\n",
      "Progress: 100.0% words/sec/thread:    3144 lr:  0.000000 avg.loss: 10.099373 ETA:   0h 0m 0s\n"
     ]
    }
   ],
   "source": [
    "import fasttext\n",
    "model2 = fasttext.train_supervised(input=\"cooking2.train\")"
   ]
  },
  {
   "cell_type": "code",
   "execution_count": 17,
   "id": "c6b25aeb-8598-49e7-827d-127574e8548c",
   "metadata": {},
   "outputs": [
    {
     "data": {
      "text/plain": [
       "(3000, 0.17433333333333334, 0.07539282110422373)"
      ]
     },
     "execution_count": 17,
     "metadata": {},
     "output_type": "execute_result"
    }
   ],
   "source": [
    "model2.test(\"cooking2.valid\")"
   ]
  },
  {
   "cell_type": "code",
   "execution_count": null,
   "id": "e78a029b-aafc-43dd-9fac-e880796bb6fa",
   "metadata": {},
   "outputs": [],
   "source": [
    "### More epochs and larger learning rate"
   ]
  },
  {
   "cell_type": "code",
   "execution_count": 18,
   "id": "50018b0c-c07d-4a40-af51-63a7f8741ee2",
   "metadata": {},
   "outputs": [
    {
     "name": "stderr",
     "output_type": "stream",
     "text": [
      "Read 0M words\n",
      "Number of words:  8952\n",
      "Number of labels: 735\n",
      "Progress: 100.0% words/sec/thread:    3099 lr:  0.000000 avg.loss:  7.221395 ETA:   0h 0m 0s lr:  0.008576 avg.loss:  7.402447 ETA:   0h 0m 7s\n"
     ]
    }
   ],
   "source": [
    "import fasttext\n",
    "model3 = fasttext.train_supervised(input=\"cooking2.train\", epoch=25)"
   ]
  },
  {
   "cell_type": "code",
   "execution_count": 19,
   "id": "c08712f2-c24e-435f-9c4b-d472fcd97165",
   "metadata": {},
   "outputs": [
    {
     "data": {
      "text/plain": [
       "(3000, 0.522, 0.22574599971169093)"
      ]
     },
     "execution_count": 19,
     "metadata": {},
     "output_type": "execute_result"
    }
   ],
   "source": [
    "model3.test(\"cooking2.valid\")"
   ]
  },
  {
   "cell_type": "code",
   "execution_count": 20,
   "id": "6f549a1c-64ff-4684-a350-33b92aaaa6df",
   "metadata": {},
   "outputs": [
    {
     "name": "stderr",
     "output_type": "stream",
     "text": [
      "Read 0M words\n",
      "Number of words:  8952\n",
      "Number of labels: 735\n",
      "Progress: 100.0% words/sec/thread:    3072 lr:  0.000000 avg.loss:  6.542137 ETA:   0h 0m 0s\n"
     ]
    }
   ],
   "source": [
    "model4 = fasttext.train_supervised(input=\"cooking2.train\", lr=1.0)"
   ]
  },
  {
   "cell_type": "code",
   "execution_count": 21,
   "id": "1c5968a0-7c1f-4745-ba7f-5138e6a8981d",
   "metadata": {},
   "outputs": [
    {
     "data": {
      "text/plain": [
       "(3000, 0.5773333333333334, 0.2496756522992648)"
      ]
     },
     "execution_count": 21,
     "metadata": {},
     "output_type": "execute_result"
    }
   ],
   "source": [
    "model4.test(\"cooking2.valid\")"
   ]
  },
  {
   "cell_type": "code",
   "execution_count": 22,
   "id": "d68e3595-2222-46dc-808d-71817ec12ef2",
   "metadata": {},
   "outputs": [
    {
     "name": "stderr",
     "output_type": "stream",
     "text": [
      "Read 0M words\n",
      "Number of words:  8952\n",
      "Number of labels: 735\n",
      "Progress: 100.0% words/sec/thread:    3052 lr:  0.000000 avg.loss:  4.531206 ETA:   0h 0m 0s 16.2% words/sec/thread:    3062 lr:  0.838363 avg.loss:  8.227530 ETA:   0h 1m14s 7.640467 ETA:   0h 1m 6s 35.7% words/sec/thread:    3055 lr:  0.643435 avg.loss:  7.194624 ETA:   0h 0m57s 71.8% words/sec/thread:    3050 lr:  0.282311 avg.loss:  5.573322 ETA:   0h 0m25s 94.4% words/sec/thread:    3053 lr:  0.055983 avg.loss:  4.723944 ETA:   0h 0m 4s\n"
     ]
    }
   ],
   "source": [
    "model5 = fasttext.train_supervised(input=\"cooking2.train\", lr=1.0, epoch=25)"
   ]
  },
  {
   "cell_type": "code",
   "execution_count": 23,
   "id": "ba979fec-2805-493d-91a1-c5c423a0aa0d",
   "metadata": {},
   "outputs": [
    {
     "data": {
      "text/plain": [
       "(3000, 0.576, 0.24909903416462448)"
      ]
     },
     "execution_count": 23,
     "metadata": {},
     "output_type": "execute_result"
    }
   ],
   "source": [
    "model5.test(\"cooking2.valid\")"
   ]
  },
  {
   "cell_type": "markdown",
   "id": "dfcb772b-6587-4a66-a3ca-77d2a56e8a2a",
   "metadata": {},
   "source": [
    "### word n-grams"
   ]
  },
  {
   "cell_type": "code",
   "execution_count": 24,
   "id": "204895c0-6670-4794-87e3-37fcaa623432",
   "metadata": {},
   "outputs": [
    {
     "name": "stderr",
     "output_type": "stream",
     "text": [
      "Read 0M words\n",
      "Number of words:  8952\n",
      "Number of labels: 735\n",
      "Progress: 100.0% words/sec/thread:    2970 lr:  0.000000 avg.loss:  3.202410 ETA:   0h 0m 0s 0.950084 avg.loss:  9.927120 ETA:   0h 1m33s avg.loss:  3.203731 ETA:   0h 0m 0s\n"
     ]
    }
   ],
   "source": [
    "model6 = fasttext.train_supervised(input=\"cooking2.train\", lr=1.0, epoch=25, wordNgrams=2)"
   ]
  },
  {
   "cell_type": "code",
   "execution_count": 25,
   "id": "fff7cf4c-408e-479b-8927-350faf9af981",
   "metadata": {},
   "outputs": [
    {
     "data": {
      "text/plain": [
       "(3000, 0.6053333333333333, 0.26178463312671185)"
      ]
     },
     "execution_count": 25,
     "metadata": {},
     "output_type": "execute_result"
    }
   ],
   "source": [
    "model6.test(\"cooking2.valid\")"
   ]
  },
  {
   "cell_type": "code",
   "execution_count": null,
   "id": "bbefe529-8fd2-4a37-afa5-bdae7c8bcd0f",
   "metadata": {},
   "outputs": [],
   "source": [
    "### Scaling things up"
   ]
  },
  {
   "cell_type": "code",
   "execution_count": 26,
   "id": "9bad811b-cc9a-4d19-ac58-b58d1095dabc",
   "metadata": {},
   "outputs": [
    {
     "name": "stderr",
     "output_type": "stream",
     "text": [
      "Read 0M words\n",
      "Number of words:  8952\n",
      "Number of labels: 735\n",
      "Progress: 100.0% words/sec/thread:  104120 lr:  0.000000 avg.loss:  2.212304 ETA:   0h 0m 0s\n"
     ]
    }
   ],
   "source": [
    "model7 = fasttext.train_supervised(input=\"cooking2.train\", lr=1.0, epoch=25, wordNgrams=2, bucket=200000, dim=50, loss='hs')"
   ]
  },
  {
   "cell_type": "code",
   "execution_count": 27,
   "id": "87906160-a1ad-48be-8be0-94ee7754522c",
   "metadata": {},
   "outputs": [
    {
     "data": {
      "text/plain": [
       "(3000, 0.5863333333333334, 0.2535678247080871)"
      ]
     },
     "execution_count": 27,
     "metadata": {},
     "output_type": "execute_result"
    }
   ],
   "source": [
    "model7.test(\"cooking2.valid\")"
   ]
  },
  {
   "cell_type": "markdown",
   "id": "e713332e-42d3-4ee4-b04d-2c270e570581",
   "metadata": {},
   "source": [
    "### Multi-label classification"
   ]
  },
  {
   "cell_type": "code",
   "execution_count": 28,
   "id": "3f3fffa5-6eb9-43db-9b93-bc9754aa47e8",
   "metadata": {},
   "outputs": [
    {
     "name": "stderr",
     "output_type": "stream",
     "text": [
      "Read 0M words\n",
      "Number of words:  8952\n",
      "Number of labels: 735\n",
      "Progress: 100.0% words/sec/thread:    5297 lr:  0.000000 avg.loss:  4.341012 ETA:   0h 0m 0s ETA:   0h 0m44s 39.0% words/sec/thread:    4982 lr:  0.304911 avg.loss: 10.225122 ETA:   0h 0m33s\n"
     ]
    }
   ],
   "source": [
    "model8 = fasttext.train_supervised(input=\"cooking2.train\", lr=0.5, epoch=25, wordNgrams=2, bucket=200000, dim=50, loss='ova')"
   ]
  },
  {
   "cell_type": "code",
   "execution_count": 29,
   "id": "a49645f6-300c-4134-aa87-933563b8839d",
   "metadata": {},
   "outputs": [
    {
     "data": {
      "text/plain": [
       "(('__label__baking',\n",
       "  '__label__bread',\n",
       "  '__label__bananas',\n",
       "  '__label__equipment'),\n",
       " array([1.00001001, 0.99169421, 0.89913142, 0.8808071 ]))"
      ]
     },
     "execution_count": 29,
     "metadata": {},
     "output_type": "execute_result"
    }
   ],
   "source": [
    "model8.predict(\"Which baking dish is best to bake a banana bread ?\", k=-1, threshold=0.5)"
   ]
  },
  {
   "cell_type": "code",
   "execution_count": 30,
   "id": "a99fb1fe-5089-43b6-ae6e-3d3645c3ae25",
   "metadata": {},
   "outputs": [
    {
     "data": {
      "text/plain": [
       "(3000, 0.003146031746031746, 1.0)"
      ]
     },
     "execution_count": 30,
     "metadata": {},
     "output_type": "execute_result"
    }
   ],
   "source": [
    "model8.test(\"cooking2.valid\", k=-1)"
   ]
  },
  {
   "cell_type": "code",
   "execution_count": null,
   "id": "79ec9dab-dcb1-4827-a034-ddba365e201c",
   "metadata": {},
   "outputs": [],
   "source": []
  }
 ],
 "metadata": {
  "kernelspec": {
   "display_name": "Python 3 (ipykernel)",
   "language": "python",
   "name": "python3"
  },
  "language_info": {
   "codemirror_mode": {
    "name": "ipython",
    "version": 3
   },
   "file_extension": ".py",
   "mimetype": "text/x-python",
   "name": "python",
   "nbconvert_exporter": "python",
   "pygments_lexer": "ipython3",
   "version": "3.9.16"
  }
 },
 "nbformat": 4,
 "nbformat_minor": 5
}
