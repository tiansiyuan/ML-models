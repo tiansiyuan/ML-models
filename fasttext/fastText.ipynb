{
 "cells": [
  {
   "cell_type": "markdown",
   "id": "5cb06a41-acdc-47fd-9296-adb53c88c1ae",
   "metadata": {},
   "source": [
    "# fastText\n",
    "\n",
    "[fastText](https://fasttext.cc/) is a library for efficient learning of word representations and sentence classification.\n",
    "\n",
    "This notebook is adapted from the [tutorial](https://fasttext.cc/docs/en/supervised-tutorial.html)."
   ]
  },
  {
   "cell_type": "code",
   "execution_count": 1,
   "id": "a2f1f178-084a-4b18-a800-9ef6efcb7ee3",
   "metadata": {},
   "outputs": [
    {
     "name": "stdout",
     "output_type": "stream",
     "text": [
      "Hit:1 https://deb.nodesource.com/node_14.x focal InRelease\n",
      "Hit:2 http://archive.ubuntu.com/ubuntu focal InRelease              \u001b[0m\u001b[33m\n",
      "Hit:3 http://ppa.launchpad.net/deadsnakes/ppa/ubuntu focal InRelease\n",
      "Hit:4 http://security.ubuntu.com/ubuntu focal-security InRelease\n",
      "Hit:5 http://archive.ubuntu.com/ubuntu focal-updates InRelease\n",
      "Hit:6 http://archive.ubuntu.com/ubuntu focal-backports InRelease\n",
      "Reading package lists... Done\u001b[33m\u001b[33m\n",
      "Building dependency tree       \n",
      "Reading state information... Done\n",
      "144 packages can be upgraded. Run 'apt list --upgradable' to see them.\n"
     ]
    }
   ],
   "source": [
    "!apt-get update "
   ]
  },
  {
   "cell_type": "code",
   "execution_count": 2,
   "id": "7d83503f-b624-4662-a761-060f14dfd05b",
   "metadata": {},
   "outputs": [
    {
     "name": "stdout",
     "output_type": "stream",
     "text": [
      "Reading package lists... Done\n",
      "Building dependency tree       \n",
      "Reading state information... Done\n",
      "Suggested packages:\n",
      "  g++-multilib gcc-multilib make autoconf automake libtool flex bison gdb\n",
      "  gcc-doc\n",
      "The following NEW packages will be installed:\n",
      "  g++ gcc\n",
      "0 upgraded, 2 newly installed, 0 to remove and 144 not upgraded.\n",
      "Need to get 6,812 B of archives.\n",
      "After this operation, 67.6 kB of additional disk space will be used.\n",
      "Get:1 http://archive.ubuntu.com/ubuntu focal/main amd64 gcc amd64 4:9.3.0-1ubuntu2 [5,208 B]\n",
      "Get:2 http://archive.ubuntu.com/ubuntu focal/main amd64 g++ amd64 4:9.3.0-1ubuntu2 [1,604 B]\n",
      "Fetched 6,812 B in 0s (14.9 kB/s)\n",
      "debconf: delaying package configuration, since apt-utils is not installed\n",
      "Selecting previously unselected package gcc.\n",
      "(Reading database ... 27038 files and directories currently installed.)\n",
      "Preparing to unpack .../gcc_4%3a9.3.0-1ubuntu2_amd64.deb ...\n",
      "Unpacking gcc (4:9.3.0-1ubuntu2) ...\n",
      "Selecting previously unselected package g++.\n",
      "Preparing to unpack .../g++_4%3a9.3.0-1ubuntu2_amd64.deb ...\n",
      "Unpacking g++ (4:9.3.0-1ubuntu2) ...\n",
      "Setting up gcc (4:9.3.0-1ubuntu2) ...\n",
      "Setting up g++ (4:9.3.0-1ubuntu2) ...\n",
      "update-alternatives: using /usr/bin/g++ to provide /usr/bin/c++ (c++) in auto mode\n",
      "update-alternatives: warning: skip creation of /usr/share/man/man1/c++.1.gz because associated file /usr/share/man/man1/g++.1.gz (of link group c++) doesn't exist\n"
     ]
    }
   ],
   "source": [
    "!apt-get -y install gcc  g++"
   ]
  },
  {
   "cell_type": "code",
   "execution_count": 3,
   "id": "eae2a8a9-2525-4d64-b606-99a92777048a",
   "metadata": {},
   "outputs": [
    {
     "name": "stdout",
     "output_type": "stream",
     "text": [
      "Collecting fasttext\n",
      "  Using cached fasttext-0.9.2.tar.gz (68 kB)\n",
      "Requirement already satisfied: pybind11>=2.2 in /opt/conda/lib/python3.8/site-packages (from fasttext) (2.11.1)\n",
      "Requirement already satisfied: setuptools>=0.7.0 in /opt/conda/lib/python3.8/site-packages (from fasttext) (49.6.0.post20210108)\n",
      "Requirement already satisfied: numpy in /opt/conda/lib/python3.8/site-packages (from fasttext) (1.20.3)\n",
      "Building wheels for collected packages: fasttext\n",
      "  Building wheel for fasttext (setup.py) ... \u001b[?25ldone\n",
      "\u001b[?25h  Created wheel for fasttext: filename=fasttext-0.9.2-cp38-cp38-linux_x86_64.whl size=4771769 sha256=5c6d4528dd89cca3db2db456c45fc7f564a48cb653c75432046ce6618fc25443\n",
      "  Stored in directory: /home/jovyan/.cache/pip/wheels/93/61/2a/c54711a91c418ba06ba195b1d78ff24fcaad8592f2a694ac94\n",
      "Successfully built fasttext\n",
      "Installing collected packages: fasttext\n",
      "Successfully installed fasttext-0.9.2\n",
      "\u001b[33mWARNING: Running pip as root will break packages and permissions. You should install packages reliably by using venv: https://pip.pypa.io/warnings/venv\u001b[0m\n",
      "Note: you may need to restart the kernel to use updated packages.\n"
     ]
    }
   ],
   "source": [
    "pip install fasttext"
   ]
  },
  {
   "cell_type": "markdown",
   "id": "0d96e5a3-7422-4f40-b1bb-b08551fa0958",
   "metadata": {},
   "source": [
    "### Getting and preparing the data"
   ]
  },
  {
   "cell_type": "code",
   "execution_count": 4,
   "id": "a534b109-5d75-486a-b2fe-00274c302fdd",
   "metadata": {},
   "outputs": [
    {
     "name": "stdout",
     "output_type": "stream",
     "text": [
      "--2023-08-21 03:21:40--  https://dl.fbaipublicfiles.com/fasttext/data/cooking.stackexchange.tar.gz\n",
      "Resolving dl.fbaipublicfiles.com (dl.fbaipublicfiles.com)... 99.84.238.154, 99.84.238.162, 99.84.238.206, ...\n",
      "Connecting to dl.fbaipublicfiles.com (dl.fbaipublicfiles.com)|99.84.238.154|:443... connected.\n",
      "HTTP request sent, awaiting response... 200 OK\n",
      "Length: 457609 (447K) [application/x-tar]\n",
      "Saving to: ‘cooking.stackexchange.tar.gz’\n",
      "\n",
      "cooking.stackexchan 100%[===================>] 446.88K  --.-KB/s    in 0.02s   \n",
      "\n",
      "2023-08-21 03:21:40 (28.6 MB/s) - ‘cooking.stackexchange.tar.gz’ saved [457609/457609]\n",
      "\n",
      "cooking.stackexchange.id\n",
      "cooking.stackexchange.txt\n",
      "readme.txt\n"
     ]
    }
   ],
   "source": [
    "!wget https://dl.fbaipublicfiles.com/fasttext/data/cooking.stackexchange.tar.gz && tar xvzf cooking.stackexchange.tar.gz"
   ]
  },
  {
   "cell_type": "code",
   "execution_count": 5,
   "id": "f1ed2f20-5cb7-4e16-8eed-6a1d558ad6ab",
   "metadata": {},
   "outputs": [
    {
     "name": "stdout",
     "output_type": "stream",
     "text": [
      "__label__sauce __label__cheese How much does potato starch affect a cheese sauce recipe?\n",
      "__label__food-safety __label__acidity Dangerous pathogens capable of growing in acidic environments\n",
      "__label__cast-iron __label__stove How do I cover up the white spots on my cast iron stove?\n",
      "__label__restaurant Michelin Three Star Restaurant; but if the chef is not there\n",
      "__label__knife-skills __label__dicing Without knife skills, how can I quickly and accurately dice vegetables?\n",
      "__label__storage-method __label__equipment __label__bread What's the purpose of a bread box?\n",
      "__label__baking __label__food-safety __label__substitutions __label__peanuts how to seperate peanut oil from roasted peanuts at home?\n",
      "__label__chocolate American equivalent for British chocolate terms\n",
      "__label__baking __label__oven __label__convection Fan bake vs bake\n",
      "__label__sauce __label__storage-lifetime __label__acidity __label__mayonnaise Regulation and balancing of readymade packed mayonnaise and other sauces\n"
     ]
    }
   ],
   "source": [
    "!head cooking.stackexchange.txt"
   ]
  },
  {
   "cell_type": "code",
   "execution_count": 6,
   "id": "2a448f93-01be-4d77-9a7d-3e5404e39bb3",
   "metadata": {},
   "outputs": [
    {
     "name": "stdout",
     "output_type": "stream",
     "text": [
      "  15404  169582 1401900 cooking.stackexchange.txt\n"
     ]
    }
   ],
   "source": [
    "!wc cooking.stackexchange.txt"
   ]
  },
  {
   "cell_type": "code",
   "execution_count": 7,
   "id": "397c1e27-4855-4b71-962e-768eb9d82752",
   "metadata": {},
   "outputs": [],
   "source": [
    "!head -n 12404 cooking.stackexchange.txt > cooking.train\n",
    "!tail -n 3000 cooking.stackexchange.txt > cooking.valid"
   ]
  },
  {
   "cell_type": "markdown",
   "id": "59e5d7b5-916c-43c6-bad0-5c466db923b7",
   "metadata": {},
   "source": [
    "### First classifier"
   ]
  },
  {
   "cell_type": "code",
   "execution_count": 8,
   "id": "94378f79-b556-49ca-b79f-d46cb0922536",
   "metadata": {},
   "outputs": [],
   "source": [
    "import fasttext\n",
    "model = fasttext.train_supervised(input=\"cooking.train\")"
   ]
  },
  {
   "cell_type": "code",
   "execution_count": 9,
   "id": "700361b9-def9-488e-8a53-a085bb3cc5b2",
   "metadata": {},
   "outputs": [],
   "source": [
    "model.save_model(\"model_cooking.bin\")"
   ]
  },
  {
   "cell_type": "code",
   "execution_count": 10,
   "id": "7bbe0d02-ec62-4289-b58a-4452428c9588",
   "metadata": {},
   "outputs": [
    {
     "data": {
      "text/plain": [
       "(('__label__baking',), array([0.0798744]))"
      ]
     },
     "execution_count": 10,
     "metadata": {},
     "output_type": "execute_result"
    }
   ],
   "source": [
    "model.predict(\"Which baking dish is best to bake a banana bread ?\")"
   ]
  },
  {
   "cell_type": "code",
   "execution_count": 11,
   "id": "d8450aaf-42ea-4e58-b231-00d70434f872",
   "metadata": {},
   "outputs": [
    {
     "data": {
      "text/plain": [
       "(('__label__baking',), array([0.07365448]))"
      ]
     },
     "execution_count": 11,
     "metadata": {},
     "output_type": "execute_result"
    }
   ],
   "source": [
    "model.predict(\"Why not put knives in the dishwasher?\")"
   ]
  },
  {
   "cell_type": "code",
   "execution_count": 12,
   "id": "63afaa32-b2f0-4d61-be50-707de15ff57c",
   "metadata": {},
   "outputs": [
    {
     "data": {
      "text/plain": [
       "(3000, 0.129, 0.05578780452645236)"
      ]
     },
     "execution_count": 12,
     "metadata": {},
     "output_type": "execute_result"
    }
   ],
   "source": [
    "model.test(\"cooking.valid\")"
   ]
  },
  {
   "cell_type": "code",
   "execution_count": 13,
   "id": "18387854-8ad2-4188-87da-707bed6f7caa",
   "metadata": {},
   "outputs": [
    {
     "data": {
      "text/plain": [
       "(3000, 0.0668, 0.14444284272740376)"
      ]
     },
     "execution_count": 13,
     "metadata": {},
     "output_type": "execute_result"
    }
   ],
   "source": [
    "model.test(\"cooking.valid\", k=5)"
   ]
  },
  {
   "cell_type": "markdown",
   "id": "6efd4382-d5e0-4d01-a886-4f0b2a2efa0a",
   "metadata": {},
   "source": [
    "### Precision and recall"
   ]
  },
  {
   "cell_type": "code",
   "execution_count": 14,
   "id": "c7824d61-8682-4c12-9cf1-6ab4483ecfcd",
   "metadata": {},
   "outputs": [
    {
     "data": {
      "text/plain": [
       "(('__label__baking',\n",
       "  '__label__food-safety',\n",
       "  '__label__equipment',\n",
       "  '__label__bread',\n",
       "  '__label__substitutions'),\n",
       " array([0.07365448, 0.06645831, 0.03438285, 0.03428278, 0.03235638]))"
      ]
     },
     "execution_count": 14,
     "metadata": {},
     "output_type": "execute_result"
    }
   ],
   "source": [
    "model.predict(\"Why not put knives in the dishwasher?\", k=5)"
   ]
  },
  {
   "cell_type": "markdown",
   "id": "adc35c69-bada-4672-9d4e-e2f9a465d504",
   "metadata": {},
   "source": [
    "### Making the model better"
   ]
  },
  {
   "cell_type": "code",
   "execution_count": 15,
   "id": "23ba3caf-9ff5-4da5-93de-67fc5ba547ec",
   "metadata": {},
   "outputs": [],
   "source": [
    "!cat cooking.stackexchange.txt | sed -e \"s/\\([.\\!?,'/()]\\)/ \\1 /g\" | tr \"[:upper:]\" \"[:lower:]\" > cooking.preprocessed.txt"
   ]
  },
  {
   "cell_type": "code",
   "execution_count": 16,
   "id": "30e10679-ef9b-46f2-bbe0-e8bfb0059366",
   "metadata": {},
   "outputs": [],
   "source": [
    "!head -n 12404 cooking.preprocessed.txt > cooking2.train\n",
    "!tail -n 3000 cooking.preprocessed.txt > cooking2.valid"
   ]
  },
  {
   "cell_type": "code",
   "execution_count": 17,
   "id": "19609467-972d-4ea3-9d35-3a4fdac43e45",
   "metadata": {},
   "outputs": [],
   "source": [
    "import fasttext\n",
    "model2 = fasttext.train_supervised(input=\"cooking2.train\")"
   ]
  },
  {
   "cell_type": "code",
   "execution_count": 18,
   "id": "c6b25aeb-8598-49e7-827d-127574e8548c",
   "metadata": {},
   "outputs": [
    {
     "data": {
      "text/plain": [
       "(3000, 0.164, 0.07092403056076113)"
      ]
     },
     "execution_count": 18,
     "metadata": {},
     "output_type": "execute_result"
    }
   ],
   "source": [
    "model2.test(\"cooking2.valid\")"
   ]
  },
  {
   "cell_type": "markdown",
   "id": "b8080009-73de-4bfb-acb2-e73385cfa043",
   "metadata": {},
   "source": [
    "### More epochs and larger learning rate"
   ]
  },
  {
   "cell_type": "code",
   "execution_count": 19,
   "id": "50018b0c-c07d-4a40-af51-63a7f8741ee2",
   "metadata": {},
   "outputs": [],
   "source": [
    "import fasttext\n",
    "model3 = fasttext.train_supervised(input=\"cooking2.train\", epoch=25)"
   ]
  },
  {
   "cell_type": "code",
   "execution_count": 20,
   "id": "c08712f2-c24e-435f-9c4b-d472fcd97165",
   "metadata": {},
   "outputs": [
    {
     "data": {
      "text/plain": [
       "(3000, 0.5156666666666667, 0.22300706357214933)"
      ]
     },
     "execution_count": 20,
     "metadata": {},
     "output_type": "execute_result"
    }
   ],
   "source": [
    "model3.test(\"cooking2.valid\")"
   ]
  },
  {
   "cell_type": "code",
   "execution_count": 21,
   "id": "6f549a1c-64ff-4684-a350-33b92aaaa6df",
   "metadata": {},
   "outputs": [],
   "source": [
    "model4 = fasttext.train_supervised(input=\"cooking2.train\", lr=1.0)"
   ]
  },
  {
   "cell_type": "code",
   "execution_count": 22,
   "id": "1c5968a0-7c1f-4745-ba7f-5138e6a8981d",
   "metadata": {},
   "outputs": [
    {
     "data": {
      "text/plain": [
       "(3000, 0.5683333333333334, 0.24578347989044255)"
      ]
     },
     "execution_count": 22,
     "metadata": {},
     "output_type": "execute_result"
    }
   ],
   "source": [
    "model4.test(\"cooking2.valid\")"
   ]
  },
  {
   "cell_type": "code",
   "execution_count": 23,
   "id": "d68e3595-2222-46dc-808d-71817ec12ef2",
   "metadata": {},
   "outputs": [],
   "source": [
    "model5 = fasttext.train_supervised(input=\"cooking2.train\", lr=1.0, epoch=25)"
   ]
  },
  {
   "cell_type": "code",
   "execution_count": 24,
   "id": "ba979fec-2805-493d-91a1-c5c423a0aa0d",
   "metadata": {},
   "outputs": [
    {
     "data": {
      "text/plain": [
       "(3000, 0.5783333333333334, 0.25010811590024506)"
      ]
     },
     "execution_count": 24,
     "metadata": {},
     "output_type": "execute_result"
    }
   ],
   "source": [
    "model5.test(\"cooking2.valid\")"
   ]
  },
  {
   "cell_type": "markdown",
   "id": "dfcb772b-6587-4a66-a3ca-77d2a56e8a2a",
   "metadata": {},
   "source": [
    "### word n-grams"
   ]
  },
  {
   "cell_type": "code",
   "execution_count": 25,
   "id": "204895c0-6670-4794-87e3-37fcaa623432",
   "metadata": {},
   "outputs": [],
   "source": [
    "model6 = fasttext.train_supervised(input=\"cooking2.train\", lr=1.0, epoch=25, wordNgrams=2)"
   ]
  },
  {
   "cell_type": "code",
   "execution_count": 26,
   "id": "fff7cf4c-408e-479b-8927-350faf9af981",
   "metadata": {},
   "outputs": [
    {
     "data": {
      "text/plain": [
       "(3000, 0.6023333333333334, 0.2604872423237711)"
      ]
     },
     "execution_count": 26,
     "metadata": {},
     "output_type": "execute_result"
    }
   ],
   "source": [
    "model6.test(\"cooking2.valid\")"
   ]
  },
  {
   "cell_type": "markdown",
   "id": "0e509d42-b29b-475e-8dba-433095239dc8",
   "metadata": {},
   "source": [
    "### Scaling things up"
   ]
  },
  {
   "cell_type": "code",
   "execution_count": 27,
   "id": "9bad811b-cc9a-4d19-ac58-b58d1095dabc",
   "metadata": {},
   "outputs": [],
   "source": [
    "model7 = fasttext.train_supervised(input=\"cooking2.train\", lr=1.0, epoch=25, wordNgrams=2, bucket=200000, dim=50, loss='hs')"
   ]
  },
  {
   "cell_type": "code",
   "execution_count": 28,
   "id": "87906160-a1ad-48be-8be0-94ee7754522c",
   "metadata": {},
   "outputs": [
    {
     "data": {
      "text/plain": [
       "(3000, 0.5893333333333334, 0.2548652155110278)"
      ]
     },
     "execution_count": 28,
     "metadata": {},
     "output_type": "execute_result"
    }
   ],
   "source": [
    "model7.test(\"cooking2.valid\")"
   ]
  },
  {
   "cell_type": "markdown",
   "id": "e713332e-42d3-4ee4-b04d-2c270e570581",
   "metadata": {},
   "source": [
    "### Multi-label classification"
   ]
  },
  {
   "cell_type": "code",
   "execution_count": 29,
   "id": "3f3fffa5-6eb9-43db-9b93-bc9754aa47e8",
   "metadata": {},
   "outputs": [],
   "source": [
    "model8 = fasttext.train_supervised(input=\"cooking2.train\", lr=0.5, epoch=25, wordNgrams=2, bucket=200000, dim=50, loss='ova')"
   ]
  },
  {
   "cell_type": "code",
   "execution_count": 30,
   "id": "a49645f6-300c-4134-aa87-933563b8839d",
   "metadata": {},
   "outputs": [
    {
     "data": {
      "text/plain": [
       "(('__label__baking',\n",
       "  '__label__bread',\n",
       "  '__label__bananas',\n",
       "  '__label__equipment'),\n",
       " array([1.00001001, 0.98902309, 0.9124462 , 0.79311597]))"
      ]
     },
     "execution_count": 30,
     "metadata": {},
     "output_type": "execute_result"
    }
   ],
   "source": [
    "model8.predict(\"Which baking dish is best to bake a banana bread ?\", k=-1, threshold=0.5)"
   ]
  },
  {
   "cell_type": "code",
   "execution_count": 31,
   "id": "a99fb1fe-5089-43b6-ae6e-3d3645c3ae25",
   "metadata": {},
   "outputs": [
    {
     "data": {
      "text/plain": [
       "(3000, 0.003146031746031746, 1.0)"
      ]
     },
     "execution_count": 31,
     "metadata": {},
     "output_type": "execute_result"
    }
   ],
   "source": [
    "model8.test(\"cooking2.valid\", k=-1)"
   ]
  },
  {
   "cell_type": "code",
   "execution_count": null,
   "id": "79ec9dab-dcb1-4827-a034-ddba365e201c",
   "metadata": {},
   "outputs": [],
   "source": []
  }
 ],
 "metadata": {
  "kernelspec": {
   "display_name": "Python 3",
   "language": "python",
   "name": "python3"
  },
  "language_info": {
   "codemirror_mode": {
    "name": "ipython",
    "version": 3
   },
   "file_extension": ".py",
   "mimetype": "text/x-python",
   "name": "python",
   "nbconvert_exporter": "python",
   "pygments_lexer": "ipython3",
   "version": "3.8.10"
  }
 },
 "nbformat": 4,
 "nbformat_minor": 5
}
