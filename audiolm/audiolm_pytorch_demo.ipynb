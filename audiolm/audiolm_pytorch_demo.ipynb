{
 "cells": [
  {
   "cell_type": "code",
   "execution_count": 1,
   "metadata": {
    "colab": {
     "base_uri": "https://localhost:8080/"
    },
    "id": "n337KoD2om3L",
    "outputId": "97ada0c6-f21c-483e-d63d-08abddd49004"
   },
   "outputs": [
    {
     "name": "stdout",
     "output_type": "stream",
     "text": [
      "Sun Jul 16 07:04:22 2023       \n",
      "+-----------------------------------------------------------------------------+\n",
      "| NVIDIA-SMI 525.60.13    Driver Version: 525.60.13    CUDA Version: 12.0     |\n",
      "|-------------------------------+----------------------+----------------------+\n",
      "| GPU  Name        Persistence-M| Bus-Id        Disp.A | Volatile Uncorr. ECC |\n",
      "| Fan  Temp  Perf  Pwr:Usage/Cap|         Memory-Usage | GPU-Util  Compute M. |\n",
      "|                               |                      |               MIG M. |\n",
      "|===============================+======================+======================|\n",
      "|   0  GRID V100-16C       On   | 00000000:02:00.0 Off |                  N/A |\n",
      "| N/A   N/A    P0    N/A /  N/A |      0MiB / 16384MiB |      0%      Default |\n",
      "|                               |                      |             Disabled |\n",
      "+-------------------------------+----------------------+----------------------+\n",
      "                                                                               \n",
      "+-----------------------------------------------------------------------------+\n",
      "| Processes:                                                                  |\n",
      "|  GPU   GI   CI        PID   Type   Process name                  GPU Memory |\n",
      "|        ID   ID                                                   Usage      |\n",
      "|=============================================================================|\n",
      "|  No running processes found                                                 |\n",
      "+-----------------------------------------------------------------------------+\n"
     ]
    }
   ],
   "source": [
    "!nvidia-smi\n",
    "\n",
    "# If this doesn't work, there's no GPU available or detected"
   ]
  },
  {
   "cell_type": "code",
   "execution_count": 2,
   "metadata": {
    "colab": {
     "base_uri": "https://localhost:8080/"
    },
    "id": "TLJAcUHpvmp4",
    "outputId": "95bcda95-a484-40c6-e5a7-47f4378759a8"
   },
   "outputs": [
    {
     "name": "stdout",
     "output_type": "stream",
     "text": [
      "Requirement already satisfied: audiolm-pytorch in /home/venv/lib/python3.9/site-packages (1.2.15)\n",
      "Requirement already satisfied: accelerate in /home/venv/lib/python3.9/site-packages (from audiolm-pytorch) (0.21.0)\n",
      "Requirement already satisfied: beartype in /home/venv/lib/python3.9/site-packages (from audiolm-pytorch) (0.14.1)\n",
      "Requirement already satisfied: einops>=0.6.1 in /home/venv/lib/python3.9/site-packages (from audiolm-pytorch) (0.6.1)\n",
      "Requirement already satisfied: ema-pytorch>=0.2.2 in /home/venv/lib/python3.9/site-packages (from audiolm-pytorch) (0.2.3)\n",
      "Requirement already satisfied: encodec in /home/venv/lib/python3.9/site-packages (from audiolm-pytorch) (0.1.1)\n",
      "Requirement already satisfied: fairseq in /home/venv/lib/python3.9/site-packages (from audiolm-pytorch) (0.12.2)\n",
      "Requirement already satisfied: joblib in /home/venv/lib/python3.9/site-packages (from audiolm-pytorch) (1.3.1)\n",
      "Requirement already satisfied: lion-pytorch in /home/venv/lib/python3.9/site-packages (from audiolm-pytorch) (0.1.2)\n",
      "Requirement already satisfied: local-attention>=1.8.4 in /home/venv/lib/python3.9/site-packages (from audiolm-pytorch) (1.8.6)\n",
      "Requirement already satisfied: scikit-learn in /home/venv/lib/python3.9/site-packages (from audiolm-pytorch) (0.24.0)\n",
      "Requirement already satisfied: sentencepiece in /home/venv/lib/python3.9/site-packages (from audiolm-pytorch) (0.1.99)\n",
      "Requirement already satisfied: torch>=1.12 in /home/venv/lib/python3.9/site-packages (from audiolm-pytorch) (2.0.0+cu117)\n",
      "Requirement already satisfied: torchaudio in /home/venv/lib/python3.9/site-packages (from audiolm-pytorch) (2.0.1+cu117)\n",
      "Requirement already satisfied: transformers in /home/venv/lib/python3.9/site-packages (from audiolm-pytorch) (4.30.1)\n",
      "Requirement already satisfied: tqdm in /home/venv/lib/python3.9/site-packages (from audiolm-pytorch) (4.65.0)\n",
      "Requirement already satisfied: vector-quantize-pytorch>=1.5.14 in /home/venv/lib/python3.9/site-packages (from audiolm-pytorch) (1.6.28)\n",
      "Requirement already satisfied: filelock in /home/venv/lib/python3.9/site-packages (from torch>=1.12->audiolm-pytorch) (3.12.0)\n",
      "Requirement already satisfied: typing-extensions in /home/venv/lib/python3.9/site-packages (from torch>=1.12->audiolm-pytorch) (4.5.0)\n",
      "Requirement already satisfied: sympy in /home/venv/lib/python3.9/site-packages (from torch>=1.12->audiolm-pytorch) (1.12)\n",
      "Requirement already satisfied: networkx in /home/venv/lib/python3.9/site-packages (from torch>=1.12->audiolm-pytorch) (3.1)\n",
      "Requirement already satisfied: jinja2 in /home/venv/lib/python3.9/site-packages (from torch>=1.12->audiolm-pytorch) (3.1.2)\n",
      "Requirement already satisfied: triton==2.0.0 in /home/venv/lib/python3.9/site-packages (from torch>=1.12->audiolm-pytorch) (2.0.0)\n",
      "Requirement already satisfied: cmake in /home/venv/lib/python3.9/site-packages (from triton==2.0.0->torch>=1.12->audiolm-pytorch) (3.26.3)\n",
      "Requirement already satisfied: lit in /home/venv/lib/python3.9/site-packages (from triton==2.0.0->torch>=1.12->audiolm-pytorch) (16.0.3)\n",
      "Requirement already satisfied: numpy>=1.17 in /home/venv/lib/python3.9/site-packages (from accelerate->audiolm-pytorch) (1.23.5)\n",
      "Requirement already satisfied: packaging>=20.0 in /home/venv/lib/python3.9/site-packages (from accelerate->audiolm-pytorch) (23.1)\n",
      "Requirement already satisfied: psutil in /home/venv/lib/python3.9/site-packages (from accelerate->audiolm-pytorch) (5.9.5)\n",
      "Requirement already satisfied: pyyaml in /home/venv/lib/python3.9/site-packages (from accelerate->audiolm-pytorch) (6.0)\n",
      "Requirement already satisfied: cffi in /home/venv/lib/python3.9/site-packages (from fairseq->audiolm-pytorch) (1.15.1)\n",
      "Requirement already satisfied: cython in /home/venv/lib/python3.9/site-packages (from fairseq->audiolm-pytorch) (0.29.34)\n",
      "Requirement already satisfied: hydra-core<1.1,>=1.0.7 in /home/venv/lib/python3.9/site-packages (from fairseq->audiolm-pytorch) (1.0.7)\n",
      "Requirement already satisfied: omegaconf<2.1 in /home/venv/lib/python3.9/site-packages (from fairseq->audiolm-pytorch) (2.0.6)\n",
      "Requirement already satisfied: regex in /home/venv/lib/python3.9/site-packages (from fairseq->audiolm-pytorch) (2023.6.3)\n",
      "Requirement already satisfied: sacrebleu>=1.4.12 in /home/venv/lib/python3.9/site-packages (from fairseq->audiolm-pytorch) (2.3.1)\n",
      "Requirement already satisfied: bitarray in /home/venv/lib/python3.9/site-packages (from fairseq->audiolm-pytorch) (2.7.6)\n",
      "Requirement already satisfied: scipy>=0.19.1 in /home/venv/lib/python3.9/site-packages (from scikit-learn->audiolm-pytorch) (1.10.1)\n",
      "Requirement already satisfied: threadpoolctl>=2.0.0 in /home/venv/lib/python3.9/site-packages (from scikit-learn->audiolm-pytorch) (3.2.0)\n",
      "Requirement already satisfied: huggingface-hub<1.0,>=0.14.1 in /home/venv/lib/python3.9/site-packages (from transformers->audiolm-pytorch) (0.15.1)\n",
      "Requirement already satisfied: requests in /home/venv/lib/python3.9/site-packages (from transformers->audiolm-pytorch) (2.30.0)\n",
      "Requirement already satisfied: tokenizers!=0.11.3,<0.14,>=0.11.1 in /home/venv/lib/python3.9/site-packages (from transformers->audiolm-pytorch) (0.13.3)\n",
      "Requirement already satisfied: safetensors>=0.3.1 in /home/venv/lib/python3.9/site-packages (from transformers->audiolm-pytorch) (0.3.1)\n",
      "Requirement already satisfied: fsspec in /home/venv/lib/python3.9/site-packages (from huggingface-hub<1.0,>=0.14.1->transformers->audiolm-pytorch) (2023.6.0)\n",
      "Requirement already satisfied: antlr4-python3-runtime==4.8 in /home/venv/lib/python3.9/site-packages (from hydra-core<1.1,>=1.0.7->fairseq->audiolm-pytorch) (4.8)\n",
      "Requirement already satisfied: portalocker in /home/venv/lib/python3.9/site-packages (from sacrebleu>=1.4.12->fairseq->audiolm-pytorch) (2.7.0)\n",
      "Requirement already satisfied: tabulate>=0.8.9 in /home/venv/lib/python3.9/site-packages (from sacrebleu>=1.4.12->fairseq->audiolm-pytorch) (0.9.0)\n",
      "Requirement already satisfied: colorama in /home/venv/lib/python3.9/site-packages (from sacrebleu>=1.4.12->fairseq->audiolm-pytorch) (0.4.6)\n",
      "Requirement already satisfied: lxml in /home/venv/lib/python3.9/site-packages (from sacrebleu>=1.4.12->fairseq->audiolm-pytorch) (4.9.3)\n",
      "Requirement already satisfied: pycparser in /home/venv/lib/python3.9/site-packages (from cffi->fairseq->audiolm-pytorch) (2.21)\n",
      "Requirement already satisfied: MarkupSafe>=2.0 in /home/venv/lib/python3.9/site-packages (from jinja2->torch>=1.12->audiolm-pytorch) (2.1.2)\n",
      "Requirement already satisfied: charset-normalizer<4,>=2 in /home/venv/lib/python3.9/site-packages (from requests->transformers->audiolm-pytorch) (3.1.0)\n",
      "Requirement already satisfied: idna<4,>=2.5 in /home/venv/lib/python3.9/site-packages (from requests->transformers->audiolm-pytorch) (3.4)\n",
      "Requirement already satisfied: urllib3<3,>=1.21.1 in /home/venv/lib/python3.9/site-packages (from requests->transformers->audiolm-pytorch) (1.26.16)\n",
      "Requirement already satisfied: certifi>=2017.4.17 in /home/venv/lib/python3.9/site-packages (from requests->transformers->audiolm-pytorch) (2023.5.7)\n",
      "Requirement already satisfied: mpmath>=0.19 in /home/venv/lib/python3.9/site-packages (from sympy->torch>=1.12->audiolm-pytorch) (1.3.0)\n"
     ]
    }
   ],
   "source": [
    "!pip install audiolm-pytorch"
   ]
  },
  {
   "cell_type": "markdown",
   "metadata": {
    "id": "xuNcsDJsvQwh"
   },
   "source": [
    "## Setup\n",
    "\n",
    "Includes:\n",
    "\n",
    "- How to generate a placeholder dataset if you haven't already, just the basics to run \"training\" e2e on a tiny dataset\n",
    "- How to download a dataset from OpenSLR"
   ]
  },
  {
   "cell_type": "markdown",
   "metadata": {
    "id": "jBxNK5cKW--_"
   },
   "source": [
    "### Imports & paths"
   ]
  },
  {
   "cell_type": "code",
   "execution_count": 3,
   "metadata": {
    "id": "OrNeKngVVM0L"
   },
   "outputs": [
    {
     "name": "stderr",
     "output_type": "stream",
     "text": [
      "/home/venv/lib/python3.9/site-packages/tqdm/auto.py:21: TqdmWarning: IProgress not found. Please update jupyter and ipywidgets. See https://ipywidgets.readthedocs.io/en/stable/user_install.html\n",
      "  from .autonotebook import tqdm as notebook_tqdm\n",
      "2023-07-16 07:04:40.781114: I tensorflow/core/platform/cpu_feature_guard.cc:182] This TensorFlow binary is optimized to use available CPU instructions in performance-critical operations.\n",
      "To enable the following instructions: AVX2 AVX512F FMA, in other operations, rebuild TensorFlow with the appropriate compiler flags.\n",
      "2023-07-16 07:04:41.853018: W tensorflow/compiler/tf2tensorrt/utils/py_utils.cc:38] TF-TRT Warning: Could not find TensorRT\n",
      "2023-07-16 07:04:43 | INFO | fairseq.tasks.text_to_speech | Please install tensorboardX: pip install tensorboardX\n"
     ]
    }
   ],
   "source": [
    "# imports\n",
    "import math\n",
    "import wave\n",
    "import struct\n",
    "import os\n",
    "import urllib.request\n",
    "import tarfile\n",
    "from audiolm_pytorch import SoundStream, SoundStreamTrainer, HubertWithKmeans, SemanticTransformer, SemanticTransformerTrainer, HubertWithKmeans, CoarseTransformer, CoarseTransformerWrapper, CoarseTransformerTrainer, FineTransformer, FineTransformerWrapper, FineTransformerTrainer, AudioLM\n",
    "from torch import nn\n",
    "import torch\n",
    "import torchaudio\n",
    "\n",
    "\n",
    "# define all dataset paths, checkpoints, etc\n",
    "dataset_folder = \"placeholder_dataset\"\n",
    "soundstream_ckpt = \"results/soundstream.8.pt\" # this can change depending on number of steps\n",
    "hubert_ckpt = 'hubert/hubert_base_ls960.pt'\n",
    "hubert_quantizer = f'hubert/hubert_base_ls960_L9_km500.bin' # listed in row \"HuBERT Base (~95M params)\", column Quantizer"
   ]
  },
  {
   "cell_type": "markdown",
   "metadata": {
    "id": "pA56YODZXBtf"
   },
   "source": [
    "### Data"
   ]
  },
  {
   "cell_type": "code",
   "execution_count": 4,
   "metadata": {
    "id": "6nnPceFWwedh"
   },
   "outputs": [],
   "source": [
    "# Placeholder data generation\n",
    "def get_sinewave(freq=440.0, duration_ms=200, volume=1.0, sample_rate=44100.0):\n",
    "  # code adapted from https://stackoverflow.com/a/33913403\n",
    "  audio = []\n",
    "  num_samples = duration_ms * (sample_rate / 1000.0)\n",
    "  for x in range(int(num_samples)):\n",
    "    audio.append(volume * math.sin(2 * math.pi * freq * (x / sample_rate)))\n",
    "  return audio\n",
    "\n",
    "def save_wav(file_name, audio, sample_rate=44100.0):\n",
    "  # Open up a wav file\n",
    "  wav_file=wave.open(file_name,\"w\")\n",
    "  # wav params\n",
    "  nchannels = 1\n",
    "  sampwidth = 2\n",
    "  # 44100 is the industry standard sample rate - CD quality.  If you need to\n",
    "  # save on file size you can adjust it downwards. The stanard for low quality\n",
    "  # is 8000 or 8kHz.\n",
    "  nframes = len(audio)\n",
    "  comptype = \"NONE\"\n",
    "  compname = \"not compressed\"\n",
    "  wav_file.setparams((nchannels, sampwidth, sample_rate, nframes, comptype, compname))\n",
    "  # WAV files here are using short, 16 bit, signed integers for the \n",
    "  # sample size.  So we multiply the floating point data we have by 32767, the\n",
    "  # maximum value for a short integer.  NOTE: It is theortically possible to\n",
    "  # use the floating point -1.0 to 1.0 data directly in a WAV file but not\n",
    "  # obvious how to do that using the wave module in python.\n",
    "  for sample in audio:\n",
    "      wav_file.writeframes(struct.pack('h', int( sample * 32767.0 )))\n",
    "  wav_file.close()\n",
    "  return\n",
    "\n",
    "def make_placeholder_dataset():\n",
    "  # Make a placeholder dataset with a few .wav files that you can \"train\" on, just to verify things work e2e\n",
    "  if os.path.isdir(dataset_folder):\n",
    "    return\n",
    "  os.makedirs(dataset_folder)\n",
    "  save_wav(f\"{dataset_folder}/example.wav\", get_sinewave())\n",
    "  save_wav(f\"{dataset_folder}/example2.wav\", get_sinewave(duration_ms=500))\n",
    "  os.makedirs(f\"{dataset_folder}/subdirectory\")\n",
    "  save_wav(f\"{dataset_folder}/subdirectory/example.wav\", get_sinewave(freq=330.0))\n",
    "\n",
    "make_placeholder_dataset()"
   ]
  },
  {
   "cell_type": "code",
   "execution_count": 5,
   "metadata": {
    "id": "jwYCbFpHvmRI"
   },
   "outputs": [],
   "source": [
    "# Get actual dataset. Uncomment this if you want to try training on real data\n",
    "\n",
    "# full dataset: https://www.openslr.org/12\n",
    "# We'll use https://us.openslr.org/resources/12/dev-clean.tar.gz development set, \"clean\" speech.\n",
    "# We *should* train on, well, training, but this is just to demo running things end-to-end at all so I just picked a small clean set.\n",
    "\n",
    "url = \"https://us.openslr.org/resources/12/dev-clean.tar.gz\"\n",
    "filename = \"dev-clean\"\n",
    "filename_targz = filename + \".tar.gz\"\n",
    "if not os.path.isfile(filename_targz):\n",
    "  urllib.request.urlretrieve(url, filename_targz)\n",
    "if not os.path.isdir(filename):\n",
    "  # open file\n",
    "  with tarfile.open(filename_targz) as t:\n",
    "    t.extractall(filename)"
   ]
  },
  {
   "cell_type": "markdown",
   "metadata": {
    "id": "PYcI0aXEwuxR"
   },
   "source": [
    "## Training\n",
    "\n",
    "Now that we have a dataset, we can train AudioLM.\n",
    "\n",
    "**Note**: do NOT type \"y\" to overwrite previous experiments/ checkpoints when running through the cells here unless you're ready to the entire results folder! Otherwise you will end up erasing things (e.g. you train SoundStream first, and if you choose \"overwrite\" then you lose the SoundStream checkpoint when you then train SemanticTransformer)."
   ]
  },
  {
   "cell_type": "markdown",
   "metadata": {
    "id": "T7GiyBcBWiZV"
   },
   "source": [
    "### SoundStream"
   ]
  },
  {
   "cell_type": "code",
   "execution_count": 6,
   "metadata": {
    "colab": {
     "base_uri": "https://localhost:8080/"
    },
    "id": "nGU0OZiOwPEO",
    "outputId": "21dd959c-6458-4477-8403-cf810166f38d"
   },
   "outputs": [
    {
     "name": "stdout",
     "output_type": "stream",
     "text": [
      "training with dataset of 2 samples and validating with randomly splitted 1 samples\n"
     ]
    },
    {
     "name": "stdin",
     "output_type": "stream",
     "text": [
      "do you want to clear previous experiment checkpoints and results? (y/n)  y\n"
     ]
    },
    {
     "name": "stdout",
     "output_type": "stream",
     "text": [
      "0: soundstream total loss: 60.938, soundstream recon loss: 0.169 | discr (scale 1) loss: 1.999 | discr (scale 0.5) loss: 2.000 | discr (scale 0.25) loss: 2.000\n",
      "0: saving to results\n",
      "0: saving model to results\n",
      "1: soundstream total loss: 57.705, soundstream recon loss: 0.160 | discr (scale 1) loss: 1.988 | discr (scale 0.5) loss: 1.992 | discr (scale 0.25) loss: 1.996\n",
      "2: soundstream total loss: 60.159, soundstream recon loss: 0.157 | discr (scale 1) loss: 1.977 | discr (scale 0.5) loss: 1.984 | discr (scale 0.25) loss: 1.991\n",
      "2: saving to results\n",
      "3: soundstream total loss: 64.797, soundstream recon loss: 0.159 | discr (scale 1) loss: 1.961 | discr (scale 0.5) loss: 1.971 | discr (scale 0.25) loss: 1.984\n",
      "4: soundstream total loss: 65.992, soundstream recon loss: 0.160 | discr (scale 1) loss: 1.937 | discr (scale 0.5) loss: 1.952 | discr (scale 0.25) loss: 1.975\n",
      "4: saving to results\n",
      "4: saving model to results\n",
      "5: soundstream total loss: 67.066, soundstream recon loss: 0.160 | discr (scale 1) loss: 1.904 | discr (scale 0.5) loss: 1.929 | discr (scale 0.25) loss: 1.964\n",
      "6: soundstream total loss: 67.220, soundstream recon loss: 0.159 | discr (scale 1) loss: 1.863 | discr (scale 0.5) loss: 1.899 | discr (scale 0.25) loss: 1.951\n",
      "6: saving to results\n",
      "7: soundstream total loss: 66.095, soundstream recon loss: 0.157 | discr (scale 1) loss: 1.812 | discr (scale 0.5) loss: 1.863 | discr (scale 0.25) loss: 1.934\n",
      "8: soundstream total loss: 64.094, soundstream recon loss: 0.156 | discr (scale 1) loss: 1.752 | discr (scale 0.5) loss: 1.817 | discr (scale 0.25) loss: 1.915\n",
      "8: saving to results\n",
      "8: saving model to results\n",
      "training complete\n"
     ]
    }
   ],
   "source": [
    "soundstream = SoundStream(\n",
    "    codebook_size = 1024,\n",
    "    rq_num_quantizers = 8,\n",
    ")\n",
    "\n",
    "trainer = SoundStreamTrainer(\n",
    "    soundstream,\n",
    "    folder = dataset_folder,\n",
    "    batch_size = 4,\n",
    "    grad_accum_every = 8,         # effective batch size of 32\n",
    "    data_max_length = 320 * 32,\n",
    "    save_results_every = 2,\n",
    "    save_model_every = 4,\n",
    "    num_train_steps = 9\n",
    ").cuda()\n",
    "# NOTE: I changed num_train_steps to 9 (aka 8 + 1) from 10000 to make things go faster for demo purposes\n",
    "# adjusting save_*_every variables for the same reason\n",
    "\n",
    "trainer.train()"
   ]
  },
  {
   "cell_type": "markdown",
   "metadata": {
    "id": "lqjN28L4Wc5Q"
   },
   "source": [
    "### SemanticTransformer"
   ]
  },
  {
   "cell_type": "code",
   "execution_count": 7,
   "metadata": {
    "colab": {
     "base_uri": "https://localhost:8080/"
    },
    "id": "qgd962eSvDzS",
    "outputId": "b0550cde-0c8b-4a39-f896-f6f813f50f8c"
   },
   "outputs": [
    {
     "name": "stdout",
     "output_type": "stream",
     "text": [
      "training with dataset of 2 samples and validating with randomly splitted 1 samples\n"
     ]
    },
    {
     "name": "stdin",
     "output_type": "stream",
     "text": [
      "do you want to clear previous experiment checkpoints and results? (y/n)  n\n"
     ]
    },
    {
     "name": "stdout",
     "output_type": "stream",
     "text": [
      "0: loss: 6.243890285491943\n",
      "0: valid loss 5.014174461364746\n",
      "0: saving model to results\n",
      "training complete\n"
     ]
    }
   ],
   "source": [
    "# hubert checkpoints can be downloaded at\n",
    "# https://github.com/facebookresearch/fairseq/tree/main/examples/hubert\n",
    "if not os.path.isdir(\"hubert\"):\n",
    "  os.makedirs(\"hubert\")\n",
    "if not os.path.isfile(hubert_ckpt):\n",
    "  hubert_ckpt_download = f\"https://dl.fbaipublicfiles.com/{hubert_ckpt}\"\n",
    "  urllib.request.urlretrieve(hubert_ckpt_download, f\"./{hubert_ckpt}\")\n",
    "if not os.path.isfile(hubert_quantizer):\n",
    "  hubert_quantizer_download = f\"https://dl.fbaipublicfiles.com/{hubert_quantizer}\"\n",
    "  urllib.request.urlretrieve(hubert_quantizer_download, f\"./{hubert_quantizer}\")\n",
    "\n",
    "wav2vec = HubertWithKmeans(\n",
    "    checkpoint_path = f'./{hubert_ckpt}',\n",
    "    kmeans_path = f'./{hubert_quantizer}'\n",
    ")\n",
    "\n",
    "semantic_transformer = SemanticTransformer(\n",
    "    num_semantic_tokens = wav2vec.codebook_size,\n",
    "    dim = 1024,\n",
    "    depth = 6\n",
    ").cuda()\n",
    "\n",
    "\n",
    "trainer = SemanticTransformerTrainer(\n",
    "    transformer = semantic_transformer,\n",
    "    wav2vec = wav2vec,\n",
    "    folder = dataset_folder,\n",
    "    batch_size = 1,\n",
    "    data_max_length = 320 * 32,\n",
    "    num_train_steps = 1\n",
    ")\n",
    "\n",
    "trainer.train()"
   ]
  },
  {
   "cell_type": "markdown",
   "metadata": {
    "id": "4eEvIzhEWwRz"
   },
   "source": [
    "### CoarseTransformer"
   ]
  },
  {
   "cell_type": "code",
   "execution_count": 8,
   "metadata": {
    "colab": {
     "base_uri": "https://localhost:8080/"
    },
    "id": "1LeWmaNHzzY9",
    "outputId": "7e7ecb3b-f59e-4d18-c8c9-64762e9b43fc"
   },
   "outputs": [
    {
     "name": "stdout",
     "output_type": "stream",
     "text": [
      "training with dataset of 2 samples and validating with randomly splitted 1 samples\n"
     ]
    },
    {
     "name": "stdin",
     "output_type": "stream",
     "text": [
      "do you want to clear previous experiment checkpoints and results? (y/n)  n\n"
     ]
    },
    {
     "name": "stdout",
     "output_type": "stream",
     "text": [
      "0: loss: 52.51435852050781\n",
      "0: valid loss 21.045879364013672\n",
      "0: saving model to results\n",
      "1: loss: 20.320030212402344\n",
      "2: loss: 21.20816421508789\n",
      "2: valid loss 18.377973556518555\n",
      "3: loss: 18.919553756713867\n",
      "4: loss: 17.92267417907715\n",
      "4: valid loss 21.664886474609375\n",
      "4: saving model to results\n",
      "5: loss: 20.040117263793945\n",
      "6: loss: 19.930463790893555\n",
      "6: valid loss 17.157535552978516\n",
      "7: loss: 15.103912353515625\n",
      "8: loss: 16.718273162841797\n",
      "8: valid loss 13.10491943359375\n",
      "8: saving model to results\n",
      "training complete\n"
     ]
    }
   ],
   "source": [
    "wav2vec = HubertWithKmeans(\n",
    "    checkpoint_path = f'./{hubert_ckpt}',\n",
    "    kmeans_path = f'./{hubert_quantizer}'\n",
    ")\n",
    "\n",
    "soundstream = SoundStream(\n",
    "    codebook_size = 1024,\n",
    "    rq_num_quantizers = 8,\n",
    ")\n",
    "\n",
    "soundstream.load(f\"./{soundstream_ckpt}\")\n",
    "\n",
    "coarse_transformer = CoarseTransformer(\n",
    "    num_semantic_tokens = wav2vec.codebook_size,\n",
    "    codebook_size = 1024,\n",
    "    num_coarse_quantizers = 3,\n",
    "    dim = 512,\n",
    "    depth = 6\n",
    ")\n",
    "\n",
    "trainer = CoarseTransformerTrainer(\n",
    "    transformer = coarse_transformer,\n",
    "    codec = soundstream,\n",
    "    wav2vec = wav2vec,\n",
    "    folder = dataset_folder,\n",
    "    batch_size = 1,\n",
    "    data_max_length = 320 * 32,\n",
    "    save_results_every = 2,\n",
    "    save_model_every = 4,\n",
    "    num_train_steps = 9\n",
    ")\n",
    "# NOTE: I changed num_train_steps to 9 (aka 8 + 1) from 10000 to make things go faster for demo purposes\n",
    "# adjusting save_*_every variables for the same reason\n",
    "\n",
    "trainer.train()"
   ]
  },
  {
   "cell_type": "markdown",
   "metadata": {
    "id": "fRvj7qOJWzmw"
   },
   "source": [
    "### FineTransformer"
   ]
  },
  {
   "cell_type": "code",
   "execution_count": 9,
   "metadata": {
    "colab": {
     "base_uri": "https://localhost:8080/"
    },
    "id": "ZRaEhRRKWg8F",
    "outputId": "7cc166c4-c8e9-45ef-8293-8f5381c2d3af"
   },
   "outputs": [
    {
     "name": "stdout",
     "output_type": "stream",
     "text": [
      "training with dataset of 2 samples and validating with randomly splitted 1 samples\n"
     ]
    },
    {
     "name": "stdin",
     "output_type": "stream",
     "text": [
      "do you want to clear previous experiment checkpoints and results? (y/n)  n\n"
     ]
    },
    {
     "name": "stdout",
     "output_type": "stream",
     "text": [
      "0: loss: 67.80673217773438\n",
      "0: valid loss 7.633450984954834\n",
      "0: saving model to results\n",
      "1: loss: 8.174442291259766\n",
      "2: loss: 11.20072078704834\n",
      "3: loss: 8.231931686401367\n",
      "4: loss: 7.251619338989258\n",
      "5: loss: 6.977606773376465\n",
      "6: loss: 7.308804035186768\n",
      "7: loss: 6.059814453125\n",
      "8: loss: 7.066324710845947\n",
      "training complete\n"
     ]
    }
   ],
   "source": [
    "soundstream = SoundStream(\n",
    "    codebook_size = 1024,\n",
    "    rq_num_quantizers = 8,\n",
    ")\n",
    "\n",
    "soundstream.load(f\"./{soundstream_ckpt}\")\n",
    "\n",
    "fine_transformer = FineTransformer(\n",
    "    num_coarse_quantizers = 3,\n",
    "    num_fine_quantizers = 5,\n",
    "    codebook_size = 1024,\n",
    "    dim = 512,\n",
    "    depth = 6\n",
    ")\n",
    "\n",
    "trainer = FineTransformerTrainer(\n",
    "    transformer = fine_transformer,\n",
    "    codec = soundstream,\n",
    "    folder = dataset_folder,\n",
    "    batch_size = 1,\n",
    "    data_max_length = 320 * 32,\n",
    "    num_train_steps = 9\n",
    ")\n",
    "# NOTE: I changed num_train_steps to 9 (aka 8 + 1) from 10000 to make things go faster for demo purposes\n",
    "# adjusting save_*_every variables for the same reason\n",
    "\n",
    "trainer.train()"
   ]
  },
  {
   "cell_type": "markdown",
   "metadata": {
    "id": "QoHgkgA3XKXH"
   },
   "source": [
    "## Inference"
   ]
  },
  {
   "cell_type": "code",
   "execution_count": 10,
   "metadata": {
    "colab": {
     "base_uri": "https://localhost:8080/"
    },
    "id": "rzghrux5WinW",
    "outputId": "9dd39f7f-0046-4a5f-826e-a442345987af"
   },
   "outputs": [
    {
     "name": "stderr",
     "output_type": "stream",
     "text": [
      "generating semantic:   1%|          | 12/2048 [00:00<00:23, 86.03it/s]\n",
      "generating coarse: 100%|██████████| 512/512 [00:21<00:00, 23.63it/s]\n",
      "generating fine: 100%|██████████| 512/512 [02:59<00:00,  2.85it/s]\n"
     ]
    }
   ],
   "source": [
    "# Everything together\n",
    "audiolm = AudioLM(\n",
    "    wav2vec = wav2vec,\n",
    "    codec = soundstream,\n",
    "    semantic_transformer = semantic_transformer,\n",
    "    coarse_transformer = coarse_transformer,\n",
    "    fine_transformer = fine_transformer\n",
    ")\n",
    "\n",
    "generated_wav = audiolm(batch_size = 1)"
   ]
  },
  {
   "cell_type": "code",
   "execution_count": 11,
   "metadata": {
    "id": "4rQPHTSRngEr"
   },
   "outputs": [],
   "source": [
    "output_path = \"out.wav\"\n",
    "sample_rate = 44100\n",
    "torchaudio.save(output_path, generated_wav.cpu(), sample_rate)"
   ]
  },
  {
   "cell_type": "code",
   "execution_count": null,
   "metadata": {},
   "outputs": [],
   "source": []
  }
 ],
 "metadata": {
  "accelerator": "GPU",
  "colab": {
   "provenance": []
  },
  "gpuClass": "standard",
  "kernelspec": {
   "display_name": "Python 3 (ipykernel)",
   "language": "python",
   "name": "python3"
  },
  "language_info": {
   "codemirror_mode": {
    "name": "ipython",
    "version": 3
   },
   "file_extension": ".py",
   "mimetype": "text/x-python",
   "name": "python",
   "nbconvert_exporter": "python",
   "pygments_lexer": "ipython3",
   "version": "3.9.16"
  }
 },
 "nbformat": 4,
 "nbformat_minor": 4
}
